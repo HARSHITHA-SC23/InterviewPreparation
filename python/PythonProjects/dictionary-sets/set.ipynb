{
 "cells": [
  {
   "cell_type": "code",
   "execution_count": 1,
   "metadata": {},
   "outputs": [
    {
     "name": "stdout",
     "output_type": "stream",
     "text": [
      "{1, 2, 3, 4, 5, 8}\n"
     ]
    }
   ],
   "source": [
    "# Write a function that takes a list and returns a set of unique elements.\n",
    "lists = [1,2,3,4,4,4,5,5,8]\n",
    "print(set(lists))"
   ]
  },
  {
   "cell_type": "code",
   "execution_count": 4,
   "metadata": {},
   "outputs": [
    {
     "name": "stdout",
     "output_type": "stream",
     "text": [
      "Union:  {1, 2, 3, 4, 5, 6}\n",
      "Intersection:  {3, 4}\n",
      "Difference {1, 2}\n",
      "Symmetric Difference {1, 2, 5, 6}\n"
     ]
    }
   ],
   "source": [
    "# Implement functions for union, intersection, difference, and symmetric difference between two sets.\n",
    "\n",
    "class SetOperations:\n",
    "    def union(self,set1, set2):\n",
    "        union = set1 | set2\n",
    "        return union\n",
    "\n",
    "    def intersection(self,set1, set2):\n",
    "        intersec = set1 & set2\n",
    "        return intersec\n",
    "    \n",
    "    def difference(self,set1,set2):\n",
    "        diff = set1 - set2\n",
    "        return diff\n",
    "    \n",
    "    def symDifference(self,set1, set2):\n",
    "        symDiff = set1 ^ set2\n",
    "        return symDiff\n",
    "\n",
    "setOps = SetOperations()\n",
    "set1 = {1,2,3,4}\n",
    "set2 = {3,4,5,6}\n",
    "\n",
    "print(\"Union: \", setOps.union(set1,set2))\n",
    "print(\"Intersection: \", setOps.intersection(set1,set2))\n",
    "print(\"Difference\", setOps.difference(set1,set2))\n",
    "print(\"Symmetric Difference\", setOps.symDifference(set1,set2))"
   ]
  },
  {
   "cell_type": "code",
   "execution_count": 10,
   "metadata": {},
   "outputs": [
    {
     "name": "stdout",
     "output_type": "stream",
     "text": [
      "True\n"
     ]
    }
   ],
   "source": [
    "# Write a function that checks if one set is a subset of another.\n",
    "\n",
    "set1 = {1,2,3}\n",
    "set2 = {1,2,3}\n",
    "print(set1 <= set2)"
   ]
  },
  {
   "cell_type": "code",
   "execution_count": 15,
   "metadata": {},
   "outputs": [
    {
     "name": "stdout",
     "output_type": "stream",
     "text": [
      "7\n"
     ]
    }
   ],
   "source": [
    "# Given a list of numbers, return the count of distinct elements.\n",
    "list1 = [1,2,2,3,4,4,4,5,6,7]\n",
    "print(len(set(list1)))"
   ]
  },
  {
   "cell_type": "code",
   "execution_count": 18,
   "metadata": {},
   "outputs": [
    {
     "name": "stdout",
     "output_type": "stream",
     "text": [
      "{2, 4}\n"
     ]
    }
   ],
   "source": [
    "# Given a list, identify all the duplicate elements using sets.\n",
    "list1 = [1,2,2,3,4,4,4,5,6,7]\n",
    "\n",
    "def findDup(list1):\n",
    "    seen = set()\n",
    "    dupli = set()\n",
    "\n",
    "    for item in list1:\n",
    "        if item in seen:\n",
    "            dupli.add(item)\n",
    "        else:\n",
    "            seen.add(item)\n",
    "    return dupli\n",
    "\n",
    "print(findDup(list1))"
   ]
  },
  {
   "cell_type": "code",
   "execution_count": 19,
   "metadata": {},
   "outputs": [
    {
     "name": "stdout",
     "output_type": "stream",
     "text": [
      "{3, 4, 5}\n"
     ]
    }
   ],
   "source": [
    "# Given two lists, find the common elements using sets.\n",
    "\n",
    "list1 = [1,2,3,4,5]\n",
    "list2 = [6,7,4,5,3]\n",
    "\n",
    "print(set(list1) & set(list2))"
   ]
  },
  {
   "cell_type": "code",
   "execution_count": null,
   "metadata": {},
   "outputs": [],
   "source": [
    "# Write a function that groups anagrams from a list of words using sets.\n",
    "\n",
    "words = ['dog','god', 'cat', 'silent','listen']\n",
    "\n"
   ]
  }
 ],
 "metadata": {
  "kernelspec": {
   "display_name": "Python 3",
   "language": "python",
   "name": "python3"
  },
  "language_info": {
   "codemirror_mode": {
    "name": "ipython",
    "version": 3
   },
   "file_extension": ".py",
   "mimetype": "text/x-python",
   "name": "python",
   "nbconvert_exporter": "python",
   "pygments_lexer": "ipython3",
   "version": "3.12.6"
  }
 },
 "nbformat": 4,
 "nbformat_minor": 2
}
