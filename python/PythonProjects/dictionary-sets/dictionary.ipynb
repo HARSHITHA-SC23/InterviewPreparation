{
 "cells": [
  {
   "cell_type": "code",
   "execution_count": 12,
   "metadata": {},
   "outputs": [
    {
     "name": "stdout",
     "output_type": "stream",
     "text": [
      "{'karnataka': ['Bangalore', 'Mysore', 'Kodagu']}\n",
      "{'karnataka': ['Bangalore', 'Mysore', 'Kodagu']}\n",
      "after modifying\n",
      "{'karnataka': ['Kodagu', 'Mysore', 'Bangalore']}\n",
      "after modifying\n",
      "{'karnataka': ['Kodagu', 'Mysore', 'chikmanglore']}\n"
     ]
    }
   ],
   "source": [
    "# Create a dictionary and access elements using keys.\n",
    "## 1st brute force\n",
    "states = {}\n",
    "cities = ['Bangalore', 'Mysore', 'Kodagu']\n",
    "states['karnataka'] = []\n",
    "states['karnataka'].extend(cities)\n",
    "print(states)\n",
    "\n",
    "## using collection module defaultdict sub-class\n",
    "from collections import defaultdict\n",
    "\n",
    "states2 = defaultdict(list)\n",
    "states2['karnataka'].extend(cities)\n",
    "print(dict(states2.items()))\n",
    "print(\"after modifying\")\n",
    "states2.update({'karnataka': states2['karnataka'][::-1]})\n",
    "print(dict(states2.items()))\n",
    "print(\"after modifying\")\n",
    "states2['karnataka'][2] = 'chikmanglore'\n",
    "print(dict(states2.items()))\n",
    "# Modify and update values in a dictionary."
   ]
  },
  {
   "cell_type": "code",
   "execution_count": 14,
   "metadata": {},
   "outputs": [
    {
     "data": {
      "text/plain": [
       "'The key a exists in the dictionary'"
      ]
     },
     "execution_count": 14,
     "metadata": {},
     "output_type": "execute_result"
    }
   ],
   "source": [
    "# Write a function to check if a given key exists in a dictionary.\n",
    "alphabet = {'a':['apple'],'b':['ball','bat'], 'c':['cat','coffee']}\n",
    "def checKey(key):\n",
    "    if key in alphabet.keys():\n",
    "        return f\"The key {key} exists in the dictionary\"\n",
    "    else:\n",
    "        return f\"The key {key} doesn't exists\"\n",
    "    \n",
    "checKey('a')"
   ]
  },
  {
   "cell_type": "code",
   "execution_count": 18,
   "metadata": {},
   "outputs": [
    {
     "name": "stdout",
     "output_type": "stream",
     "text": [
      "{'a': 1, 'b': [2, 3], 'c': 4, 'd': 3}\n"
     ]
    }
   ],
   "source": [
    "#  Merge two dictionaries into one.\n",
    "\n",
    "dict1 = {'a': 1, 'b': 2}\n",
    "dict2 = {'b': 3, 'c': 4, 'd': 3}\n",
    "\n",
    "merge_dict = dict1.copy()\n",
    "for key,value in dict2.items():\n",
    "    if key in merge_dict:\n",
    "        merge_dict[key] = [merge_dict[key], value]\n",
    "    else:\n",
    "        merge_dict[key] = value\n",
    "\n",
    "print(merge_dict)"
   ]
  },
  {
   "cell_type": "code",
   "execution_count": 34,
   "metadata": {},
   "outputs": [
    {
     "name": "stdout",
     "output_type": "stream",
     "text": [
      "Keys\n",
      "['b', 'c', 'd']\n",
      "['b', 'c', 'd']\n",
      "Values\n",
      "[3, [3, 4], 3]\n",
      "[3, [3, 4], 3]\n",
      "Key-value or Items\n",
      "[('b', 3), ('c', [3, 4]), ('d', 3)]\n",
      "{'b': 3, 'c': [3, 4], 'd': 3}\n",
      "{'b': 3, 'c': [3, 4], 'd': 3}\n",
      "{'b': 3, 'c': [3, 4], 'd': 3}\n",
      "Number of items in a dictionary\n",
      "3\n"
     ]
    }
   ],
   "source": [
    "# Iterate through keys, values, and key-value pairs in a dictionary.\n",
    "# Find the number of items in a dictionary.\n",
    "\n",
    "dict1 = {'b': 3, 'c': [3,4], 'd': 3}\n",
    "\n",
    "print(\"Keys\")\n",
    "print([key for key in dict1.keys()])\n",
    "print(list(dict1.keys()))\n",
    "\n",
    "print(\"Values\")\n",
    "print([value for value in dict1.values()])\n",
    "print(list(dict1.values()))\n",
    "\n",
    "print(\"Key-value or Items\")\n",
    "print([(key,value) for key, value in dict1.items()])\n",
    "print({key:value for key, value in dict1.items()})\n",
    "print(dict(dict1.items()))\n",
    "print(dict1)\n",
    "\n",
    "print(\"Number of items in a dictionary\")\n",
    "print(len(dict1))"
   ]
  },
  {
   "cell_type": "code",
   "execution_count": 40,
   "metadata": {},
   "outputs": [
    {
     "data": {
      "text/plain": [
       "{1: 1, 2: 4, 3: 9, 4: 16}"
      ]
     },
     "execution_count": 40,
     "metadata": {},
     "output_type": "execute_result"
    }
   ],
   "source": [
    "# Create a dictionary where keys are numbers from 1 to n, and values are their squares using dictionary comprehension.\n",
    "def squareDict(n):\n",
    "    iterable = list(range(1,n+1))\n",
    "    return {value:value*value for value in iterable}\n",
    "\n",
    "squareDict(4)"
   ]
  },
  {
   "cell_type": "code",
   "execution_count": 44,
   "metadata": {},
   "outputs": [
    {
     "data": {
      "text/plain": [
       "{'b': 3, 'c': 5}"
      ]
     },
     "execution_count": 44,
     "metadata": {},
     "output_type": "execute_result"
    }
   ],
   "source": [
    "# Given a dictionary, use dictionary comprehension to filter elements that satisfy a certain condition \n",
    "# (e.g., value greater than a threshold).\n",
    "\n",
    "testDict = {'a':2,'b': 3, 'c':5,'d':1}\n",
    "\n",
    "def threshdict(threshold):\n",
    "    return {key:value for key, value in testDict.items() if value > threshold}\n",
    "\n",
    "threshdict(2)\n"
   ]
  },
  {
   "cell_type": "code",
   "execution_count": 49,
   "metadata": {},
   "outputs": [
    {
     "name": "stdout",
     "output_type": "stream",
     "text": [
      "{1: 2, 2: 1, 3: 1, 4: 2, 5: 1}\n",
      "{1: 2, 2: 1, 3: 1, 4: 1, 5: 1}\n"
     ]
    }
   ],
   "source": [
    "# Given a list of integers, count the occurrences of each integer using a dictionary.\n",
    "\n",
    "from collections import Counter, defaultdict\n",
    "\n",
    "list1 = [1,1,2,3,4,4,5]\n",
    "count =  Counter(list1)\n",
    "print(dict(count))\n",
    "\n",
    "manualCounter = defaultdict(int)\n",
    "\n",
    "for num in list1:\n",
    "    if num in manualCounter.values():\n",
    "        manualCounter[num] += 1\n",
    "    else:\n",
    "        manualCounter[num] =1\n",
    "print(dict(manualCounter))"
   ]
  },
  {
   "cell_type": "code",
   "execution_count": 2,
   "metadata": {},
   "outputs": [
    {
     "name": "stdout",
     "output_type": "stream",
     "text": [
      "{('e', 'i', 'l', 'n', 's', 't'): ['silent', 'listen'], ('d', 'g', 'o'): ['dog', 'god'], ('c', 'o', 'w'): ['cow']}\n"
     ]
    }
   ],
   "source": [
    "# Write a function to group a list of words that are anagrams using dictionaries\n",
    "\n",
    "from collections import defaultdict\n",
    "\n",
    "anagram =defaultdict(list)\n",
    "\n",
    "words = ['silent', 'listen', 'dog', 'god', 'cow']\n",
    "\n",
    "def checkAnagram(word):\n",
    "    sortTuple = tuple(sorted(word))\n",
    "    anagram[sortTuple].append(word)\n",
    "    # if sortTuple in anagram.keys():\n",
    "    #     anagram[sortTuple].append(word)\n",
    "    # else:\n",
    "    #     anagram[sortTuple].append(word)\n",
    "\n",
    "for word in words:\n",
    "    checkAnagram(word)\n",
    "\n",
    "print(dict(anagram))"
   ]
  },
  {
   "cell_type": "code",
   "execution_count": 11,
   "metadata": {},
   "outputs": [
    {
     "name": "stdout",
     "output_type": "stream",
     "text": [
      "{'a': 3, 's': 3, 'e': 2, 'r': 1, 't': 1, 'g': 1}\n",
      "a\n"
     ]
    }
   ],
   "source": [
    "# Find the most frequent element in a list using a dictionary.\n",
    "\n",
    "from collections import Counter\n",
    "\n",
    "list1 = ['a','s','e','a','e','r','t','g','s','a','s']\n",
    "\n",
    "count = dict(Counter(list1))\n",
    "print(count)\n",
    "print(max(count, key=count.get))"
   ]
  },
  {
   "cell_type": "code",
   "execution_count": 16,
   "metadata": {},
   "outputs": [
    {
     "name": "stdout",
     "output_type": "stream",
     "text": [
      "{'a': 3, 's': 3, 'e': 2, 'r': 2, 't': 1, 'g': 1}\n",
      "['e', 'r']\n"
     ]
    }
   ],
   "source": [
    "# Given a list of elements and an integer k, return the k most frequent elements using a dictionary.\n",
    "from collections import Counter\n",
    "\n",
    "list1 = ['a','s','e','a','e','r','r','t','g','s','a','s']\n",
    "k = 2\n",
    "count = dict(Counter(list1))\n",
    "print(count)\n",
    "keyMost = []\n",
    "for key, value in count.items():\n",
    "    if value == k:\n",
    "        keyMost.append(key)\n",
    "print(keyMost)"
   ]
  },
  {
   "cell_type": "code",
   "execution_count": 19,
   "metadata": {},
   "outputs": [
    {
     "data": {
      "text/plain": [
       "{1: 'b', None: 'c'}"
      ]
     },
     "execution_count": 19,
     "metadata": {},
     "output_type": "execute_result"
    }
   ],
   "source": [
    "# Write a function to invert a dictionary (i.e., keys become values and values become keys).\n",
    "\n",
    "straightDict = {'a': 1, 'b': True, 'c': None}\n",
    "def invertDict(dictionary):\n",
    "    return {v:k for k,v in dictionary.items() if v == True or v == False}\n",
    "\n",
    "invertDict(straightDict)"
   ]
  },
  {
   "cell_type": "code",
   "execution_count": 24,
   "metadata": {},
   "outputs": [
    {
     "name": "stdout",
     "output_type": "stream",
     "text": [
      "{'a': 11, 'b': 3, 'c': 5, 'd': 1, 'e': 2}\n"
     ]
    }
   ],
   "source": [
    "# Given two dictionaries, combine them by adding the values for common keys.\n",
    "testDict1 = {'a':2,'b': 3, 'c':5,'d':1}\n",
    "testDict2 = {'e':2,'a': 9}\n",
    "\n",
    "merge_dict = testDict1.copy()\n",
    "\n",
    "for key, value in testDict2.items():\n",
    "    if key in merge_dict.keys():\n",
    "        merge_dict[key] += testDict2[key]\n",
    "    else:\n",
    "        merge_dict[key] = value\n",
    "\n",
    "print(merge_dict)"
   ]
  },
  {
   "cell_type": "code",
   "execution_count": 27,
   "metadata": {},
   "outputs": [
    {
     "data": {
      "text/plain": [
       "[{'name': 'Alice', 'age': 25, 'city': 'New York'},\n",
       " {'name': 'Bob', 'age': 30, 'city': 'Los Angeles'}]"
      ]
     },
     "execution_count": 27,
     "metadata": {},
     "output_type": "execute_result"
    }
   ],
   "source": [
    "# Convert a dictionary of lists into a list of dictionaries.\n",
    "'''\n",
    "    - Input: A dictionary where each key map to a lists of values. Every list is of same length.\n",
    "    - Requirements: Convert this dictionary of lists into a lists of dictionary, where each dictionary represents one row of data.\n",
    "    - Test case:\n",
    "        Input: {'name': ['Alice', 'Bob'],'age': [25, 30],'city': ['New York', 'Los Angeles']}\n",
    "        output: [{'name': 'Alice', 'age': 25, 'city': 'New York'},{'name': 'Bob', 'age': 30, 'city': 'Los Angeles'}]}\n",
    "'''\n",
    "\n",
    "dictoflists = {\n",
    "    'name': ['Alice', 'Bob'],\n",
    "    'age': [25, 30],\n",
    "    'city': ['New York', 'Los Angeles']\n",
    "}\n",
    "\n",
    "def conversion(dictoflists):\n",
    "    counts = {key: len(value) for key,value in dictoflists.items()}\n",
    "    uniqueCount = set(counts.values())\n",
    "    if len(uniqueCount) != 1:\n",
    "        raise IndexError(\"Length is not same\")\n",
    "    else:\n",
    "        return [{key: dictoflists[key][i] for key in dictoflists} for i in range(next(iter(counts.values())))]    \n",
    "conversion(dictoflists)\n",
    "\n"
   ]
  }
 ],
 "metadata": {
  "kernelspec": {
   "display_name": "Python 3",
   "language": "python",
   "name": "python3"
  },
  "language_info": {
   "codemirror_mode": {
    "name": "ipython",
    "version": 3
   },
   "file_extension": ".py",
   "mimetype": "text/x-python",
   "name": "python",
   "nbconvert_exporter": "python",
   "pygments_lexer": "ipython3",
   "version": "3.12.6"
  }
 },
 "nbformat": 4,
 "nbformat_minor": 2
}
