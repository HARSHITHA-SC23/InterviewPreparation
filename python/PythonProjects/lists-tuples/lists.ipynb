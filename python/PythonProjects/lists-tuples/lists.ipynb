{
 "cells": [
  {
   "cell_type": "code",
   "execution_count": 1,
   "metadata": {},
   "outputs": [
    {
     "name": "stdout",
     "output_type": "stream",
     "text": [
      "apple\n",
      "mango\n",
      "orange\n",
      "kiwi\n",
      "watermelon\n"
     ]
    }
   ],
   "source": [
    "# Create a list of five elements and print it.\n",
    "\n",
    "fruits = ['apple', 'mango', 'orange', 'kiwi', 'watermelon']\n",
    "for fruit in fruits:\n",
    "    print(fruit)"
   ]
  },
  {
   "cell_type": "code",
   "execution_count": 2,
   "metadata": {},
   "outputs": [
    {
     "name": "stdout",
     "output_type": "stream",
     "text": [
      "The first fruit is: apple and the last fruit is: watermelon\n"
     ]
    }
   ],
   "source": [
    "# Given a list of strings, access and print the first and last elements.\n",
    "fruits = ['apple', 'mango', 'orange', 'kiwi', 'watermelon']\n",
    "print(f'The first fruit is: {fruits[0]} and the last fruit is: {fruits[-1]}')"
   ]
  },
  {
   "cell_type": "code",
   "execution_count": 3,
   "metadata": {},
   "outputs": [
    {
     "name": "stdout",
     "output_type": "stream",
     "text": [
      "[1, 10, 3, 4, 5, 6, 7]\n"
     ]
    }
   ],
   "source": [
    "# Modify the second element in a list of integers and print the updated list.\n",
    "\n",
    "integers = [1,2,3,4,5,6,7]\n",
    "integers[1] = 10\n",
    "print(integers)"
   ]
  },
  {
   "cell_type": "code",
   "execution_count": 4,
   "metadata": {},
   "outputs": [
    {
     "name": "stdout",
     "output_type": "stream",
     "text": [
      "The list before the append is:  [1, 2, 3, 4]\n",
      "The list after the append is:  [1, 2, 3, 4, 5]\n",
      "The list after the extend is:  [1, 2, 3, 4, 5, 6, 7, 8, 9]\n"
     ]
    }
   ],
   "source": [
    "# Add a new element to the end of a list and extend the list with another list.\n",
    "\n",
    "oldList = [1,2,3,4]\n",
    "newList = [6,7,8,9]\n",
    "print(\"The list before the append is: \", oldList)\n",
    "oldList.append(5)\n",
    "print(\"The list after the append is: \", oldList)\n",
    "oldList.extend(newList)\n",
    "print(\"The list after the extend is: \", oldList)"
   ]
  },
  {
   "cell_type": "code",
   "execution_count": 5,
   "metadata": {},
   "outputs": [
    {
     "name": "stdout",
     "output_type": "stream",
     "text": [
      "[1, 2, 3, 5, 6, 4]\n"
     ]
    }
   ],
   "source": [
    "# Remove the first occurrence of a specific element from a list.\n",
    "\n",
    "integers = [1,2,3,4,5,6,4]\n",
    "integers.remove(4)\n",
    "print(integers)"
   ]
  },
  {
   "cell_type": "code",
   "execution_count": 7,
   "metadata": {},
   "outputs": [
    {
     "name": "stdout",
     "output_type": "stream",
     "text": [
      "True\n"
     ]
    }
   ],
   "source": [
    "# Given a list of integers, check if a specific number is in the list.\n",
    "\n",
    "integers = [1,2,3,4,5,6,7,8]\n",
    "print(7 in integers)"
   ]
  },
  {
   "cell_type": "code",
   "execution_count": 11,
   "metadata": {},
   "outputs": [
    {
     "name": "stdout",
     "output_type": "stream",
     "text": [
      "3\n"
     ]
    }
   ],
   "source": [
    "# Count how many times a specific element appears in a list.\n",
    "\n",
    "integers = [1,1,1,2,3,4,5,6,7,4,4,5,3,8,2]\n",
    "print(integers.count(4))"
   ]
  },
  {
   "cell_type": "code",
   "execution_count": 2,
   "metadata": {},
   "outputs": [
    {
     "name": "stdout",
     "output_type": "stream",
     "text": [
      "[1, 2, 3, 4, 5, 5, 6, 7, 8]\n"
     ]
    }
   ],
   "source": [
    "# Write a function that takes multiple integers as inputs and returns them as a list.\n",
    "\n",
    "initial_list = [1,2,3,4,5]\n",
    "append_list = [5,6,7,8]\n",
    "initial_list.extend(append_list)\n",
    "print(initial_list)"
   ]
  },
  {
   "cell_type": "code",
   "execution_count": 13,
   "metadata": {},
   "outputs": [
    {
     "name": "stdout",
     "output_type": "stream",
     "text": [
      "45\n"
     ]
    }
   ],
   "source": [
    "# Given a list of integers, return the sum of all elements.\n",
    "integers = [1,2,3,4,5,6,7,8,9]\n",
    "sums = 0\n",
    "for num in integers:\n",
    "    sums += num\n",
    "\n",
    "print(sums)"
   ]
  },
  {
   "cell_type": "code",
   "execution_count": 16,
   "metadata": {},
   "outputs": [
    {
     "name": "stdout",
     "output_type": "stream",
     "text": [
      "-1 80\n"
     ]
    }
   ],
   "source": [
    "# Write a function that returns the maximum and minimum values from a list.\n",
    "integers = [1,2,3,4,-1,5,6,7,80,9,0]\n",
    "minimum = integers[0]\n",
    "maximum = integers[0]\n",
    "\n",
    "for num in integers:\n",
    "    if num < minimum:\n",
    "        minimum = num\n",
    "    \n",
    "    if num > maximum:\n",
    "        maximum = num\n",
    "\n",
    "print(minimum, maximum)\n",
    "\n"
   ]
  },
  {
   "cell_type": "code",
   "execution_count": 27,
   "metadata": {},
   "outputs": [
    {
     "name": "stdout",
     "output_type": "stream",
     "text": [
      "[0, 9, 80, 7, 6, 5, -1, 4, 3, 2, 1]\n",
      "[0, 9, 80, 7, 6, 5, -1, 4, 3, 2, 1]\n"
     ]
    }
   ],
   "source": [
    "# Reverse a given list without using built-in functions like reverse()\n",
    "\n",
    "integers = [1,2,3,4,-1,5,6,7,80,9,0]\n",
    "newlist = []\n",
    "\n",
    "for i in range(len(integers)-1, -1,-1):\n",
    "    newlist.append(integers[i])\n",
    "\n",
    "print(newlist)\n",
    "\n",
    "print(integers[::-1])"
   ]
  },
  {
   "cell_type": "code",
   "execution_count": 31,
   "metadata": {},
   "outputs": [
    {
     "name": "stdout",
     "output_type": "stream",
     "text": [
      "4\n"
     ]
    }
   ],
   "source": [
    "# Write a function that counts how many times a specific element appears in a list.\n",
    "integers = [1,2,1,1,1,3,4,-1,5,6,7,80,9,0]\n",
    "count =0\n",
    "\n",
    "for i in integers:\n",
    "    if 1 == i:\n",
    "        count += 1\n",
    "print(count)"
   ]
  },
  {
   "cell_type": "code",
   "execution_count": 32,
   "metadata": {},
   "outputs": [
    {
     "name": "stdout",
     "output_type": "stream",
     "text": [
      "Even:  [2, 4, 6, 80, 0] Odd:  [1, 1, 1, 1, 3, 5, 7, 9]\n"
     ]
    }
   ],
   "source": [
    "# Given a list of numbers, separate the even and odd numbers into two new lists.\n",
    "integers = [1,2,1,1,1,3,4,5,6,7,80,9,0]\n",
    "\n",
    "even = []\n",
    "odd = []\n",
    "\n",
    "for num in integers:\n",
    "    rem = num % 2\n",
    "    if rem == 0:\n",
    "        even.append(num)\n",
    "    else:\n",
    "        odd.append(num)\n",
    "\n",
    "print(\"Even: \",even, \"Odd: \", odd)"
   ]
  },
  {
   "cell_type": "code",
   "execution_count": 35,
   "metadata": {},
   "outputs": [
    {
     "name": "stdout",
     "output_type": "stream",
     "text": [
      "-1\n"
     ]
    }
   ],
   "source": [
    "# Given a list, return the index of a specific element. If the element does not exist, return -1\n",
    "integers = [1,2,1,1,1,3,4,5,6,7,80,9,0]\n",
    "ele = 30\n",
    "if ele in integers:\n",
    "    print(integers.index(ele))\n",
    "else:\n",
    "    print(-1)\n"
   ]
  },
  {
   "cell_type": "code",
   "execution_count": 38,
   "metadata": {},
   "outputs": [
    {
     "name": "stdout",
     "output_type": "stream",
     "text": [
      "[1, 2, 4, 5, 6, 7, 80, 9, 0]\n"
     ]
    }
   ],
   "source": [
    "# Given a list that contains other lists, write a function to flatten it into a single list.\n",
    "\n",
    "integers = [[1,2],[4,5,6,7],[80,9,0]]\n",
    "def flat(arr):\n",
    "    return [item for subarr in arr for item in subarr]\n",
    "print(flat(integers))"
   ]
  }
 ],
 "metadata": {
  "kernelspec": {
   "display_name": "Python 3",
   "language": "python",
   "name": "python3"
  },
  "language_info": {
   "codemirror_mode": {
    "name": "ipython",
    "version": 3
   },
   "file_extension": ".py",
   "mimetype": "text/x-python",
   "name": "python",
   "nbconvert_exporter": "python",
   "pygments_lexer": "ipython3",
   "version": "3.12.6"
  }
 },
 "nbformat": 4,
 "nbformat_minor": 2
}
